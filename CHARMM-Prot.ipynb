{
 "cells": [
  {
   "cell_type": "code",
   "execution_count": 1,
   "id": "4bd9716a-a52f-4a97-9ae7-7514c0d2c844",
   "metadata": {},
   "outputs": [],
   "source": [
    "from pdb2pqr.charmm_protonator import charmm_biomol as biomol"
   ]
  },
  {
   "cell_type": "markdown",
   "id": "5610e7f8-0d4f-4c45-b309-e66620e4a133",
   "metadata": {},
   "source": [
    "## Load a PDB File\n",
    "Currently only support one chain of the polypeptide (no ligand and no solvent)"
   ]
  },
  {
   "cell_type": "code",
   "execution_count": 2,
   "id": "f883cba2-b6a3-4248-a39c-86dd3379e43e",
   "metadata": {},
   "outputs": [
    {
     "name": "stderr",
     "output_type": "stream",
     "text": [
      "Unable to find amino or nucleic acid definition for LLP.  Parsing as new residue.\n",
      "Gap in backbone detected between ASN A 250 and GLY A 261!\n",
      "Gap in backbone detected between PHE A 316 and ARG A 323!\n"
     ]
    }
   ],
   "source": [
    "testmol = biomol('./tests/data/1A8I-CHARMM.pdb')"
   ]
  },
  {
   "cell_type": "markdown",
   "id": "a377de3c-4f54-4ff8-908b-dbbdd0f38054",
   "metadata": {},
   "source": [
    "## Determine pKa and Protonation State and Add Hydrogen Coordinnates"
   ]
  },
  {
   "cell_type": "code",
   "execution_count": 3,
   "id": "18821c0c-fa70-4056-afb0-0a9ce7bf5802",
   "metadata": {},
   "outputs": [
    {
     "name": "stderr",
     "output_type": "stream",
     "text": [
      "Missing atom OXT in residue PRO A 835\n",
      "Missing atom OXT in residue PRO A 835\n",
      "Missing atom OXT in residue PRO A 835\n",
      "Missing atoms or failed protonation for GLY 261 A (BBN) -- please check the structure\n",
      "Group (BBN) for  1989-   N   261-GLY (A) [  58.016   72.427   28.602] N\n",
      "Expected 2 interaction atoms for acids, found:\n",
      "                 0-  H1   261-GLY (A) [  58.425   71.576   28.243] H\n",
      "                 0-  H2   261-GLY (A) [  58.725   72.967   29.078] H\n",
      "              1989-   N   261-GLY (A) [  58.016   72.427   28.602] N\n",
      "Expected 2 interaction atoms for bases, found:\n",
      "                 0-  H1   261-GLY (A) [  58.425   71.576   28.243] H\n",
      "                 0-  H2   261-GLY (A) [  58.725   72.967   29.078] H\n",
      "              1989-   N   261-GLY (A) [  58.016   72.427   28.602] N\n",
      "Missing atoms or failed protonation for ARG 323 A (BBN) -- please check the structure\n",
      "Group (BBN) for  2458-   N   323-ARG (A) [  79.802   82.924   71.417] N\n",
      "Expected 2 interaction atoms for acids, found:\n",
      "                 0-  H1   323-ARG (A) [  79.494   82.804   72.372] H\n",
      "                 0-  H2   323-ARG (A) [  79.784   82.032   70.943] H\n",
      "              2458-   N   323-ARG (A) [  79.802   82.924   71.417] N\n",
      "Expected 2 interaction atoms for bases, found:\n",
      "                 0-  H1   323-ARG (A) [  79.494   82.804   72.372] H\n",
      "                 0-  H2   323-ARG (A) [  79.784   82.032   70.943] H\n",
      "              2458-   N   323-ARG (A) [  79.802   82.924   71.417] N\n"
     ]
    },
    {
     "name": "stdout",
     "output_type": "stream",
     "text": [
      "Attempting to repair 1 missing atoms in biomolecule.\n"
     ]
    }
   ],
   "source": [
    "testmol.auto_protonate(ph = 7.0)"
   ]
  },
  {
   "cell_type": "markdown",
   "id": "4f3525e4-1264-4915-9875-5a067e99a3ad",
   "metadata": {},
   "source": [
    "## pKa Values Determined by propka"
   ]
  },
  {
   "cell_type": "code",
   "execution_count": 4,
   "id": "610ecb6d-e64a-4076-b7a7-7226c2f735af",
   "metadata": {},
   "outputs": [
    {
     "data": {
      "text/html": [
       "<div>\n",
       "<style scoped>\n",
       "    .dataframe tbody tr th:only-of-type {\n",
       "        vertical-align: middle;\n",
       "    }\n",
       "\n",
       "    .dataframe tbody tr th {\n",
       "        vertical-align: top;\n",
       "    }\n",
       "\n",
       "    .dataframe thead th {\n",
       "        text-align: right;\n",
       "    }\n",
       "</style>\n",
       "<table border=\"1\" class=\"dataframe\">\n",
       "  <thead>\n",
       "    <tr style=\"text-align: right;\">\n",
       "      <th></th>\n",
       "      <th>res_num</th>\n",
       "      <th>ins_code</th>\n",
       "      <th>res_name</th>\n",
       "      <th>chain_id</th>\n",
       "      <th>group_label</th>\n",
       "      <th>group_type</th>\n",
       "      <th>pKa</th>\n",
       "      <th>model_pKa</th>\n",
       "      <th>buried</th>\n",
       "      <th>coupled_group</th>\n",
       "    </tr>\n",
       "  </thead>\n",
       "  <tbody>\n",
       "    <tr>\n",
       "      <th>0</th>\n",
       "      <td>7</td>\n",
       "      <td></td>\n",
       "      <td>GLN</td>\n",
       "      <td>A</td>\n",
       "      <td>N+    7 A</td>\n",
       "      <td>N+</td>\n",
       "      <td>7.856168</td>\n",
       "      <td>8.0</td>\n",
       "      <td>0.000000</td>\n",
       "      <td>None</td>\n",
       "    </tr>\n",
       "    <tr>\n",
       "      <th>1</th>\n",
       "      <td>8</td>\n",
       "      <td></td>\n",
       "      <td>GLU</td>\n",
       "      <td>A</td>\n",
       "      <td>GLU   8 A</td>\n",
       "      <td>COO</td>\n",
       "      <td>4.412344</td>\n",
       "      <td>4.5</td>\n",
       "      <td>0.000000</td>\n",
       "      <td>None</td>\n",
       "    </tr>\n",
       "    <tr>\n",
       "      <th>2</th>\n",
       "      <td>9</td>\n",
       "      <td></td>\n",
       "      <td>LYS</td>\n",
       "      <td>A</td>\n",
       "      <td>LYS   9 A</td>\n",
       "      <td>LYS</td>\n",
       "      <td>9.933412</td>\n",
       "      <td>10.5</td>\n",
       "      <td>0.171429</td>\n",
       "      <td>None</td>\n",
       "    </tr>\n",
       "    <tr>\n",
       "      <th>3</th>\n",
       "      <td>10</td>\n",
       "      <td></td>\n",
       "      <td>ARG</td>\n",
       "      <td>A</td>\n",
       "      <td>ARG  10 A</td>\n",
       "      <td>ARG</td>\n",
       "      <td>15.724614</td>\n",
       "      <td>12.5</td>\n",
       "      <td>0.517857</td>\n",
       "      <td>None</td>\n",
       "    </tr>\n",
       "    <tr>\n",
       "      <th>4</th>\n",
       "      <td>11</td>\n",
       "      <td></td>\n",
       "      <td>LYS</td>\n",
       "      <td>A</td>\n",
       "      <td>LYS  11 A</td>\n",
       "      <td>LYS</td>\n",
       "      <td>10.724625</td>\n",
       "      <td>10.5</td>\n",
       "      <td>0.000000</td>\n",
       "      <td>None</td>\n",
       "    </tr>\n",
       "    <tr>\n",
       "      <th>...</th>\n",
       "      <td>...</td>\n",
       "      <td>...</td>\n",
       "      <td>...</td>\n",
       "      <td>...</td>\n",
       "      <td>...</td>\n",
       "      <td>...</td>\n",
       "      <td>...</td>\n",
       "      <td>...</td>\n",
       "      <td>...</td>\n",
       "      <td>...</td>\n",
       "    </tr>\n",
       "    <tr>\n",
       "      <th>277</th>\n",
       "      <td>823</td>\n",
       "      <td></td>\n",
       "      <td>GLU</td>\n",
       "      <td>A</td>\n",
       "      <td>GLU 823 A</td>\n",
       "      <td>COO</td>\n",
       "      <td>3.390640</td>\n",
       "      <td>4.5</td>\n",
       "      <td>0.242857</td>\n",
       "      <td>None</td>\n",
       "    </tr>\n",
       "    <tr>\n",
       "      <th>278</th>\n",
       "      <td>828</td>\n",
       "      <td></td>\n",
       "      <td>GLU</td>\n",
       "      <td>A</td>\n",
       "      <td>GLU 828 A</td>\n",
       "      <td>COO</td>\n",
       "      <td>3.288517</td>\n",
       "      <td>4.5</td>\n",
       "      <td>0.000000</td>\n",
       "      <td>None</td>\n",
       "    </tr>\n",
       "    <tr>\n",
       "      <th>279</th>\n",
       "      <td>831</td>\n",
       "      <td></td>\n",
       "      <td>ARG</td>\n",
       "      <td>A</td>\n",
       "      <td>ARG 831 A</td>\n",
       "      <td>ARG</td>\n",
       "      <td>10.817322</td>\n",
       "      <td>12.5</td>\n",
       "      <td>0.607143</td>\n",
       "      <td>None</td>\n",
       "    </tr>\n",
       "    <tr>\n",
       "      <th>280</th>\n",
       "      <td>833</td>\n",
       "      <td></td>\n",
       "      <td>ARG</td>\n",
       "      <td>A</td>\n",
       "      <td>ARG 833 A</td>\n",
       "      <td>ARG</td>\n",
       "      <td>12.047419</td>\n",
       "      <td>12.5</td>\n",
       "      <td>0.167857</td>\n",
       "      <td>None</td>\n",
       "    </tr>\n",
       "    <tr>\n",
       "      <th>281</th>\n",
       "      <td>835</td>\n",
       "      <td></td>\n",
       "      <td>PRO</td>\n",
       "      <td>A</td>\n",
       "      <td>C-  835 A</td>\n",
       "      <td>COO</td>\n",
       "      <td>3.092892</td>\n",
       "      <td>3.2</td>\n",
       "      <td>0.000000</td>\n",
       "      <td>None</td>\n",
       "    </tr>\n",
       "  </tbody>\n",
       "</table>\n",
       "<p>282 rows × 10 columns</p>\n",
       "</div>"
      ],
      "text/plain": [
       "     res_num ins_code res_name chain_id group_label group_type        pKa  \\\n",
       "0          7               GLN        A   N+    7 A         N+   7.856168   \n",
       "1          8               GLU        A   GLU   8 A        COO   4.412344   \n",
       "2          9               LYS        A   LYS   9 A        LYS   9.933412   \n",
       "3         10               ARG        A   ARG  10 A        ARG  15.724614   \n",
       "4         11               LYS        A   LYS  11 A        LYS  10.724625   \n",
       "..       ...      ...      ...      ...         ...        ...        ...   \n",
       "277      823               GLU        A   GLU 823 A        COO   3.390640   \n",
       "278      828               GLU        A   GLU 828 A        COO   3.288517   \n",
       "279      831               ARG        A   ARG 831 A        ARG  10.817322   \n",
       "280      833               ARG        A   ARG 833 A        ARG  12.047419   \n",
       "281      835               PRO        A   C-  835 A        COO   3.092892   \n",
       "\n",
       "     model_pKa    buried coupled_group  \n",
       "0          8.0  0.000000          None  \n",
       "1          4.5  0.000000          None  \n",
       "2         10.5  0.171429          None  \n",
       "3         12.5  0.517857          None  \n",
       "4         10.5  0.000000          None  \n",
       "..         ...       ...           ...  \n",
       "277        4.5  0.242857          None  \n",
       "278        4.5  0.000000          None  \n",
       "279       12.5  0.607143          None  \n",
       "280       12.5  0.167857          None  \n",
       "281        3.2  0.000000          None  \n",
       "\n",
       "[282 rows x 10 columns]"
      ]
     },
     "execution_count": 4,
     "metadata": {},
     "output_type": "execute_result"
    }
   ],
   "source": [
    "testmol.pka_df"
   ]
  },
  {
   "cell_type": "markdown",
   "id": "118a0664-1350-4400-b958-bfdee3210103",
   "metadata": {},
   "source": [
    "## Propka Reports"
   ]
  },
  {
   "cell_type": "code",
   "execution_count": 5,
   "id": "60162832-27be-4e46-b1a3-46a91fcce6d2",
   "metadata": {},
   "outputs": [
    {
     "name": "stdout",
     "output_type": "stream",
     "text": [
      "--------------------------------------------------------------------------------------------------------\n",
      "Free energy of   folding (kcal/mol) as a function of pH (using neutral reference)\n",
      "  0.00    161.95\n",
      "  1.00    160.87\n",
      "  2.00    155.29\n",
      "  3.00    138.55\n",
      "  4.00    112.82\n",
      "  5.00    100.77\n",
      "  6.00     98.46\n",
      "  7.00     95.76\n",
      "  8.00     95.46\n",
      "  9.00     95.78\n",
      " 10.00    104.54\n",
      " 11.00    135.79\n",
      " 12.00    173.15\n",
      " 13.00    212.21\n",
      " 14.00    252.76\n",
      "\n",
      "The pH of optimum stability is  8.5 for which the free energy is   95.4 kcal/mol at 298K\n",
      "Could not determine pH values where the free energy is within 80 % of minimum\n",
      "Could not determine the pH-range where the free energy is negative\n",
      "\n",
      "\n",
      "Protein charge of folded and unfolded state as a function of pH\n",
      "    pH  unfolded  folded\n",
      "  0.00    128.99  128.75\n",
      "  1.00    128.90  127.14\n",
      "  2.00    128.05  120.72\n",
      "  3.00    120.62  103.07\n",
      "  4.00     85.71   69.32\n",
      "  5.00     37.33   35.02\n",
      "  6.00     16.93   14.35\n",
      "  7.00      3.29    2.61\n",
      "  8.00     -3.03   -3.22\n",
      "  9.00    -11.51   -9.96\n",
      " 10.00    -39.26  -25.30\n",
      " 11.00    -79.70  -50.82\n",
      " 12.00   -104.91  -79.21\n",
      " 13.00   -138.17 -105.99\n",
      " 14.00   -151.11 -126.47\n",
      "The pI is  7.38 (folded) and  7.40 (unfolded)\n",
      "\n",
      "--------------------------------------------------------------------------------------------------------\n"
     ]
    }
   ],
   "source": [
    "print(testmol.pka_str)"
   ]
  },
  {
   "cell_type": "markdown",
   "id": "9c6e74ce-3141-4a26-8de4-0e8153065704",
   "metadata": {},
   "source": [
    "## Patches Needed to Apply in CHARMM"
   ]
  },
  {
   "cell_type": "code",
   "execution_count": 6,
   "id": "d382a756-9da5-4b8e-a2a3-c1502b4a9a0c",
   "metadata": {},
   "outputs": [
    {
     "data": {
      "text/plain": [
       "{(123, 'GLU', 'GLUP'),\n",
       " (296, 'GLU', 'GLUP'),\n",
       " (608, 'LYS', 'LSN'),\n",
       " (664, 'GLU', 'GLUP')}"
      ]
     },
     "execution_count": 6,
     "metadata": {},
     "output_type": "execute_result"
    }
   ],
   "source": [
    "testmol.patched_res"
   ]
  },
  {
   "cell_type": "markdown",
   "id": "9d699961-a748-452f-8fe4-9fb869ed79bb",
   "metadata": {},
   "source": [
    "## PDB File Header"
   ]
  },
  {
   "cell_type": "code",
   "execution_count": 7,
   "id": "f4862fea-4bc4-4db2-a6db-9c80aaa0f7d6",
   "metadata": {},
   "outputs": [
    {
     "name": "stdout",
     "output_type": "stream",
     "text": [
      "REMARK   1 PQR file generated by PDB2PQR\n",
      "REMARK   1 PDB2PQR v3.5.2c: biomolecular structure conversion software.\n",
      "REMARK   1\n",
      "REMARK   1 Forcefield Used: CHARMM\n",
      "REMARK   1 Naming Scheme Used: CHARMM\n",
      "REMARK   1 PQR file generated by PDB2PQR\n",
      "REMARK   1 PDB2PQR v3.5.2c: biomolecular structure conversion software.\n",
      "REMARK   1\n",
      "REMARK   1 Forcefield Used: CHARMM\n",
      "REMARK   1 Naming Scheme Used: CHARMM\n",
      "REMARK   1\n",
      "REMARK   1 pKas calculated by propka and assigned using pH 7.00\n",
      "REMARK   1\n",
      "REMARK   5 WARNING: PDB2PQR was unable to assign charges\n",
      "REMARK   5 to the following atoms (omitted below):\n",
      "REMARK   5    5338 N1 in LLP 680\n",
      "REMARK   5    5339 C2 in LLP 680\n",
      "REMARK   5    5340 C2' in LLP 680\n",
      "REMARK   5    5341 C3 in LLP 680\n",
      "REMARK   5    5342 O3 in LLP 680\n",
      "REMARK   5    5343 C4 in LLP 680\n",
      "REMARK   5    5344 C4' in LLP 680\n",
      "REMARK   5    5345 C5 in LLP 680\n",
      "REMARK   5    5346 C6 in LLP 680\n",
      "REMARK   5    5347 C5' in LLP 680\n",
      "REMARK   5    5348 OP4 in LLP 680\n",
      "REMARK   5    5349 P in LLP 680\n",
      "REMARK   5    5350 OP1 in LLP 680\n",
      "REMARK   5    5351 OP2 in LLP 680\n",
      "REMARK   5    5352 OP3 in LLP 680\n",
      "REMARK   5    5353 N in LLP 680\n",
      "REMARK   5    5354 CA in LLP 680\n",
      "REMARK   5    5355 CB in LLP 680\n",
      "REMARK   5    5356 CG in LLP 680\n",
      "REMARK   5    5357 CD in LLP 680\n",
      "REMARK   5    5358 CE in LLP 680\n",
      "REMARK   5    5359 NZ in LLP 680\n",
      "REMARK   5    5360 C in LLP 680\n",
      "REMARK   5    5361 O in LLP 680\n",
      "REMARK   5 This is usually due to the fact that this residue is not\n",
      "REMARK   5 an amino acid or nucleic acid; or, there are no parameters\n",
      "REMARK   5 available for the specific protonation state of this\n",
      "REMARK   5 residue in the selected forcefield.\n",
      "REMARK   5\n",
      "REMARK   6 Total charge on this biomolecule: 1.0000 e\n",
      "REMARK   6\n",
      "REMARK   7 FOLLOWING PATCHE(S) NEED TO BE APPLIED IN CHARMM\n",
      "REMARK   7 RESID: 664 RESI: GLU PRES: GLUP\n",
      "REMARK   7 RESID: 608 RESI: LYS PRES: LSN\n",
      "REMARK   7 RESID: 123 RESI: GLU PRES: GLUP\n",
      "REMARK   7 RESID: 296 RESI: GLU PRES: GLUP\n",
      "\n"
     ]
    }
   ],
   "source": [
    "print(testmol.get_pdb_header())"
   ]
  },
  {
   "cell_type": "markdown",
   "id": "ee4ada04-239a-4846-9d52-ae46cf82caa2",
   "metadata": {},
   "source": [
    "## Save PDB File"
   ]
  },
  {
   "cell_type": "code",
   "execution_count": null,
   "id": "ca0c531d-0e9a-40b0-b313-2fe7bc571a9c",
   "metadata": {},
   "outputs": [],
   "source": [
    "testmol.save_pdb('test_protonation.pdb')"
   ]
  }
 ],
 "metadata": {
  "kernelspec": {
   "display_name": "pdb2pqr",
   "language": "python",
   "name": "pdb2pqr"
  },
  "language_info": {
   "codemirror_mode": {
    "name": "ipython",
    "version": 3
   },
   "file_extension": ".py",
   "mimetype": "text/x-python",
   "name": "python",
   "nbconvert_exporter": "python",
   "pygments_lexer": "ipython3",
   "version": "3.10.6"
  }
 },
 "nbformat": 4,
 "nbformat_minor": 5
}
